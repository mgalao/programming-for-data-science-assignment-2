{
 "cells": [
  {
   "cell_type": "markdown",
   "metadata": {},
   "source": [
    "# Programming for Data Science 2024\n",
    "## Homework Assigment Two\n",
    "Homework activities aim at testing not only your ability to put into practice the concepts you have learned during the Lectures and Labs, but also your ability to explore the Python documentation as a resource. Above all, it is an opportunity for you to challenge yourself and practice. If you are having difficulties with the assignment reach out for support using moodle's Discussion Forum."
   ]
  },
  {
   "cell_type": "markdown",
   "metadata": {},
   "source": [
    "### Description\n",
    "\n",
    "This homework assignment will test your capacity to **load and manipulate data with Pandas**. \n",
    "    \n",
    "The goal is to develop intuition on filtering, arranging, and merging data, which will be useful for the next homework assignment.<br/>\n",
    "Fill the empty cells with your code and deliver a copy of this notebook to Moodle. <br/>\n",
    "    \n",
    "Your submission will be graded according to the following guidelines:\n",
    "1. **Execution** (does your program does what is asked from the exercise?\n",
    "2. **Objectivity** (are you using the adequate libraries? are you using a library ... )\n",
    "3. **Readability** of your code (including comments, variables naming, supporting text, etc ...)\n",
    "\n",
    "**Comment your code properly**, which includes naming your variables in a meaningful manner. **Badly documented code will be penalized.**\n",
    "\n",
    "This assignment is to be done in pairs, and remember that you can't have the same pair from the previous and subsequent assignments.\n",
    "\n",
    "**Students that are caught cheating will obtain a score of 0 points.** <br>\n",
    "\n",
    "Homework 2 is worth 25% of your final grade.    \n",
    "\n",
    "The submission package should correspond to a .zip archive (.rar files are not accepted) with the following files:\n",
    "1. Jupyter Notebook with the output of all the cells;\n",
    "2. HTML print of your Jupyter Notebook (in Jupyter go to File -> Download as -> HTML);\n",
    "3. All text or .csv files that are exported as part of the exercises. **Please don't upload the files downloaded/imported as part of the exercises.**\n",
    "\n",
    "**Please change the name of the notebook to \"H2.\\<student_1_id\\>_\\<student_2_id\\>.ipynb\", replacing \\<student_id\\> by your student_id.** <br>\n",
    "\n",
    "Submission is done through the respective Moodle activity, and only one of the group members should submit the files. <br>\n",
    "The deadline is the **19th of October at 12:00**. <br>\n",
    "A penalty of 1 point per day late will be applied to late deliveries. <br>\n",
    "**In this notebook, you are allowed to use Pandas and Numpy.**"
   ]
  },
  {
   "cell_type": "code",
   "execution_count": null,
   "metadata": {},
   "outputs": [],
   "source": [
    "import numpy as np\n",
    "import scipy\n",
    "import pandas as pd"
   ]
  },
  {
   "cell_type": "markdown",
   "metadata": {},
   "source": [
    "# <span style=\"color:brown\"> Start Here </span> \n",
    "\n",
    "[Please Complete the following form with your details]\n",
    "\n",
    "Student Name - <br>\n",
    "Student id - <br>\n",
    "Contact e-mail - <br>\n",
    "\n",
    "\n",
    "Student Name - <br>\n",
    "Student id - <br>\n",
    "Contact e-mail - <br>"
   ]
  },
  {
   "cell_type": "markdown",
   "metadata": {},
   "source": [
    "# <span style=\"color:brown\"> Part 1 - Get the Data </span>"
   ]
  },
  {
   "cell_type": "markdown",
   "metadata": {},
   "source": [
    "## Download and Load the World Development Indicators Dataset\n",
    "\n",
    "We will work with the **World Development Indicators dataset**, which should be downloaded from the world bank data catalog.<br/>\n",
    "Hence, the first step is to unzip the data given on Moodle, you can do this by running the cell below. <br/>"
   ]
  },
  {
   "cell_type": "code",
   "execution_count": null,
   "metadata": {},
   "outputs": [],
   "source": [
    "import zipfile, io\n",
    "\n",
    "z = zipfile.ZipFile(\"WDI_csv.zip\")\n",
    "z.extractall()\n",
    "\n",
    "del z"
   ]
  },
  {
   "cell_type": "markdown",
   "metadata": {},
   "source": [
    "*The above code downloads a zip archive to the working folder, which by default is the the location of this notebook in your computer. <br/>\n",
    "Secondly, and since the document downloaded is a zip archive, it extracts the documents from the archive. <br/> \n",
    "The contents include multiple .csv files, however we will be working only with the document 'WDICSV.csv'. <br/>*\n",
    "\n",
    "**1.** In the cell bellow, use Pandas to open the file \"WDICSV.csv\" and **save** it to a variable called **wdi**.<br/>"
   ]
  },
  {
   "cell_type": "code",
   "execution_count": null,
   "metadata": {},
   "outputs": [],
   "source": []
  },
  {
   "cell_type": "markdown",
   "metadata": {},
   "source": [
    "**2.** Check the top of the dataframe to ensure it was loaded correctly."
   ]
  },
  {
   "cell_type": "code",
   "execution_count": null,
   "metadata": {},
   "outputs": [],
   "source": []
  },
  {
   "cell_type": "markdown",
   "metadata": {},
   "source": [
    "## Download and Load the Penn World Table V9.0\n",
    "\n",
    "We will additionally use data from the pwt v9.0 tables. <br/> \n",
    "\n",
    "**Run the following cell to download the dataset**."
   ]
  },
  {
   "cell_type": "code",
   "execution_count": null,
   "metadata": {},
   "outputs": [],
   "source": [
    "import urllib\n",
    "urllib.request.urlretrieve(\"https://www.rug.nl/ggdc/docs/pwt90.xlsx\", \"pwt90.xlsx\")"
   ]
  },
  {
   "cell_type": "markdown",
   "metadata": {},
   "source": [
    "**3.** In the following cell, open and read the file 'pwt90.xlsx' and **save** it into variable **pwt**. <br/>"
   ]
  },
  {
   "cell_type": "code",
   "execution_count": null,
   "metadata": {},
   "outputs": [],
   "source": []
  },
  {
   "cell_type": "markdown",
   "metadata": {},
   "source": [
    "**4.** Check the top of the dataframe to ensure it was loaded correctly."
   ]
  },
  {
   "cell_type": "code",
   "execution_count": null,
   "metadata": {
    "scrolled": true
   },
   "outputs": [],
   "source": []
  },
  {
   "cell_type": "markdown",
   "metadata": {},
   "source": [
    "# <span style=\"color:brown\"> Part 2 - Data Processing </span>"
   ]
  },
  {
   "cell_type": "markdown",
   "metadata": {},
   "source": [
    "## Data Wrangling\n",
    "\n",
    "Now that we have loaded our data we are ready to start playing with it. <br/>\n",
    "\n",
    "**5.** Start by printing all the column values in the cell bellow."
   ]
  },
  {
   "cell_type": "code",
   "execution_count": null,
   "metadata": {},
   "outputs": [],
   "source": []
  },
  {
   "cell_type": "markdown",
   "metadata": {},
   "source": [
    "**6.** List the values in the column 'Country Name'.You will get a list with repeated values, **delete all duplicates** to ease your analysis. <br/>\n",
    "\n",
    "*Tip: There is a method in the pandas library that allows to do this easily.*"
   ]
  },
  {
   "cell_type": "code",
   "execution_count": null,
   "metadata": {
    "scrolled": true
   },
   "outputs": [],
   "source": []
  },
  {
   "cell_type": "markdown",
   "metadata": {},
   "source": [
    "You might notice that while the bottom rows represent Countries, the top rows represent aggregates of countries (e.g., world regions). <br/> We are only interested in **working with country-level data**, and as such we need to filter out all the unnecessary rows."
   ]
  },
  {
   "cell_type": "markdown",
   "metadata": {},
   "source": [
    "**7.** Save all the values of column 'Country Name' in a variable called **cnames**. <br/>"
   ]
  },
  {
   "cell_type": "code",
   "execution_count": null,
   "metadata": {},
   "outputs": [],
   "source": []
  },
  {
   "cell_type": "markdown",
   "metadata": {},
   "source": [
    "**7.1.** Delete all duplicate values.<br>"
   ]
  },
  {
   "cell_type": "code",
   "execution_count": null,
   "metadata": {},
   "outputs": [],
   "source": []
  },
  {
   "cell_type": "markdown",
   "metadata": {},
   "source": [
    "**7.2.** Print the names that do not represent countries."
   ]
  },
  {
   "cell_type": "code",
   "execution_count": null,
   "metadata": {},
   "outputs": [],
   "source": []
  },
  {
   "cell_type": "markdown",
   "metadata": {},
   "source": [
    "You can take advantage of the structure of the dataset to realize that aggregates (Continents, Regions, etc) are all located on the top of the series 'cnames'. Moreover, since the series is small you can easily validate this assumption manually and then use that information to extract a slice of all the entries that represent non-countries entities.<br/>\n",
    "\n",
    "**8.** In the next cell filter out, from **wdi**, the rows in which 'Country Name' represents an aggregate of countries.<br/>"
   ]
  },
  {
   "cell_type": "code",
   "execution_count": null,
   "metadata": {},
   "outputs": [],
   "source": []
  },
  {
   "cell_type": "markdown",
   "metadata": {},
   "source": [
    "**9.** Check that the top of the **wdi** dataframe now only has countries and not aggregates of countries."
   ]
  },
  {
   "cell_type": "code",
   "execution_count": null,
   "metadata": {},
   "outputs": [],
   "source": []
  },
  {
   "cell_type": "markdown",
   "metadata": {},
   "source": [
    "**10.** Reset the indexes of **wdi**. Perform this operation in-place."
   ]
  },
  {
   "cell_type": "code",
   "execution_count": null,
   "metadata": {},
   "outputs": [],
   "source": []
  },
  {
   "cell_type": "markdown",
   "metadata": {},
   "source": [
    "**11.** Show that the indexes have been reseted."
   ]
  },
  {
   "cell_type": "code",
   "execution_count": null,
   "metadata": {
    "scrolled": true
   },
   "outputs": [],
   "source": []
  },
  {
   "cell_type": "markdown",
   "metadata": {},
   "source": [
    "*Note that when reseting the index, pandas appends a new column at the begining of the data frame, which holds the previous index values.*"
   ]
  },
  {
   "cell_type": "markdown",
   "metadata": {},
   "source": [
    "## Indicator Codes and Indicator Names\n",
    "\n",
    "**12.** Select the columns 'Indicator Name' and 'Indicator Code'.Then, delete all the duplicates, and print the top 5 and bottom 5 values. <br/>\n",
    "\n",
    "*Note: You should be able to do everything in a single line of code for the top 5 values and a single line for the bottom 5 values.*"
   ]
  },
  {
   "cell_type": "code",
   "execution_count": null,
   "metadata": {
    "scrolled": true
   },
   "outputs": [],
   "source": []
  },
  {
   "cell_type": "markdown",
   "metadata": {},
   "source": [
    "**13.** Create a new DataFrame named **indicators** made up of the columns 'Indicator Name' and 'Indicator Code'. Then, delete all the duplicated entries. Finally, set the column 'Indicator Code' as the index of **indicators**. \n",
    "\n",
    "*Note: Try to perform all these steps in a single line of code.*"
   ]
  },
  {
   "cell_type": "code",
   "execution_count": null,
   "metadata": {},
   "outputs": [],
   "source": []
  },
  {
   "cell_type": "markdown",
   "metadata": {},
   "source": [
    "**The 'indicators' DataFrame can operate now as a dictionary. <br/>**\n",
    "By passing an 'Indicator Code' (key) it returns the associated 'Indicator Name' (value).<br/>\n",
    "\n",
    "**14.** Using the **indicators** DataFrame, find the 'Indicator Code' associated with the following observables:\n",
    "1. 'Population', find the 'Indicator Code' of the total population in a country;\n",
    "2. 'GDP', find the GDP measured in current US Dollars;\n",
    "3. 'GINI index'\n",
    "\n",
    "*Hint: You can use the method STRING.str.contains('substring') to check whether a string contains a substring.*"
   ]
  },
  {
   "cell_type": "code",
   "execution_count": null,
   "metadata": {},
   "outputs": [],
   "source": []
  },
  {
   "cell_type": "code",
   "execution_count": null,
   "metadata": {},
   "outputs": [],
   "source": []
  },
  {
   "cell_type": "code",
   "execution_count": null,
   "metadata": {},
   "outputs": [],
   "source": []
  },
  {
   "cell_type": "markdown",
   "metadata": {},
   "source": [
    "## Extracting and Cleaning Data from WDI and PWT\n",
    "\n",
    "**15.** From **wdi** extract the columns 'Indicator Code', 'Country Code', and '2012'.\n",
    "Save the output in variable **wdi_sample**.\n",
    "\n",
    "*Note: You should be able to perfom all operations in a single line of code. <br/>*"
   ]
  },
  {
   "cell_type": "code",
   "execution_count": null,
   "metadata": {},
   "outputs": [],
   "source": []
  },
  {
   "cell_type": "markdown",
   "metadata": {},
   "source": [
    "**16.** Select from **wdi_sample** the lines associated with the Indicator Codes that you found in question 14., which concern the data of the 'Population total','GDP', and 'GINI index'."
   ]
  },
  {
   "cell_type": "code",
   "execution_count": null,
   "metadata": {},
   "outputs": [],
   "source": []
  },
  {
   "cell_type": "markdown",
   "metadata": {},
   "source": [
    "**17.** Create a pivot table, in which the **values** are column '2012', the **index** is 'Country Code', and the **columns** are the Indicator Codes. <br/>\n",
    "\n",
    "*Hint: Pandas has a very useful method to create pivot tables.*"
   ]
  },
  {
   "cell_type": "code",
   "execution_count": null,
   "metadata": {
    "scrolled": true
   },
   "outputs": [],
   "source": []
  },
  {
   "cell_type": "markdown",
   "metadata": {},
   "source": [
    "**18.** Rename the column names of **wdi_sample** to 'Population', 'GDP', and 'GINI', accordingly."
   ]
  },
  {
   "cell_type": "code",
   "execution_count": null,
   "metadata": {},
   "outputs": [],
   "source": []
  },
  {
   "cell_type": "markdown",
   "metadata": {},
   "source": [
    "**19.** From **pwt** select only the values of the year 2012. <br/>\n",
    "Then, extract the columns 'countrycode' and 'hc' into a new variable **pwt_sample**. <br/>\n",
    "Rename 'countrycode' to 'Country Code', so that it matches the same column in **wdi_sample**<br/>\n",
    "\n",
    "*Note: in this case 'hc' stands for the Human Capital Index.<br/>*"
   ]
  },
  {
   "cell_type": "code",
   "execution_count": null,
   "metadata": {},
   "outputs": [],
   "source": []
  },
  {
   "cell_type": "code",
   "execution_count": null,
   "metadata": {},
   "outputs": [],
   "source": []
  },
  {
   "cell_type": "code",
   "execution_count": null,
   "metadata": {},
   "outputs": [],
   "source": []
  },
  {
   "cell_type": "markdown",
   "metadata": {},
   "source": [
    "**20.** Finally, create a new dataframe named **data** that contains the columns from **wdi_sample** and **pwt_sample**, matched by 'Country Code'. \n",
    "\n",
    "*Hint: Use the method concat(), and make sure both dataframes have the same index ('Country Code').*"
   ]
  },
  {
   "cell_type": "code",
   "execution_count": null,
   "metadata": {},
   "outputs": [],
   "source": []
  },
  {
   "cell_type": "code",
   "execution_count": null,
   "metadata": {},
   "outputs": [],
   "source": []
  },
  {
   "cell_type": "markdown",
   "metadata": {},
   "source": [
    "# <span style=\"color:brown\"> Part 3 - Analysing a Dataset </span>"
   ]
  },
  {
   "cell_type": "markdown",
   "metadata": {},
   "source": [
    "**21.** Perform the necessary manipulations to answer the following questions, unless otherwise stated you can use the country codes to represent the countries in your solutions:\n",
    "1. Which countries have a **population size of 10 million habitations +/- 1 million**?\n",
    "2. What is  the **average** and the **standard deviation in the GDP** for the countries listed in 1?\n",
    "3. What is  the **average** and the **standard deviation in the GDP per capita** for the countries listed in 1?\n",
    "4. Consider the following classification of country size: <br/>\n",
    "    Tiny - population < 1 000 000 <br/>\n",
    "    Very Small - 1 000 000 <= population < 5 000 000 <br/>\n",
    "    Small - 5 000 000 <= population < 15 000 000 <br/>\n",
    "    Medium - 15 000 000 <= population < 30 000 000 <br/>\n",
    "    Large - 30 000 000 <= population < 100 000 000 <br/>\n",
    "    Huge - 100 000 000 <= population <br/>\n",
    "   What is  the **average** and the **standard deviation in the GDP per capita for the countries in each size classification**?   \n",
    "5. Create a **function** that will take a dataframe and a column name. This function should **return** a series with binary values indicating whether the **values from the column are above the mean value of that column** (indicated with a value of 1 or 0 otherwise). If the value in the column is missing (NaN) the value in the series should also be missing (NaN). Test your function. *Hint:* search how to check if something is None so that we can return None. <br/>\n",
    "6. What is the **average GDP per capita of the countries after being grouped by size classification and whether the human capital was above or below average**? *Hint: as an example, two of the groups should be (1) tiny and human capital below average, (2) tiny and human capital above average.*\n",
    "7. What is the **average GDP per capita of the countries after being grouped by whether the human capital was above or below average and whether the gini coefficient was above or below average?**\n",
    "8. What is the **name of the country** that has the **highest GDP per capita, a Gini coefficient below average and a level of human capital below average**?\n",
    "9. What is the **name of the country** that has the **highest GDP per capita, a Gini coefficient below average for its size classification, and a level of human capital below average for its size classification**?\n",
    "10. What is the **name of the country** that has the **largest % increase in GDP between 1980 and 2010?** *HINT: You will need to use the wdi dataframe.*\n",
    "\n",
    "Write the necessary code to answer each question in a single cell. <br/>\n",
    "Print the answer at the end of that cell."
   ]
  },
  {
   "cell_type": "code",
   "execution_count": null,
   "metadata": {},
   "outputs": [],
   "source": [
    "#1"
   ]
  },
  {
   "cell_type": "code",
   "execution_count": null,
   "metadata": {},
   "outputs": [],
   "source": [
    "#2"
   ]
  },
  {
   "cell_type": "code",
   "execution_count": null,
   "metadata": {},
   "outputs": [],
   "source": [
    "#3"
   ]
  },
  {
   "cell_type": "code",
   "execution_count": null,
   "metadata": {},
   "outputs": [],
   "source": [
    "#4"
   ]
  },
  {
   "cell_type": "code",
   "execution_count": null,
   "metadata": {},
   "outputs": [],
   "source": [
    "#5"
   ]
  },
  {
   "cell_type": "code",
   "execution_count": null,
   "metadata": {},
   "outputs": [],
   "source": [
    "#6"
   ]
  },
  {
   "cell_type": "code",
   "execution_count": null,
   "metadata": {},
   "outputs": [],
   "source": [
    "#7"
   ]
  },
  {
   "cell_type": "code",
   "execution_count": null,
   "metadata": {},
   "outputs": [],
   "source": [
    "#8"
   ]
  },
  {
   "cell_type": "code",
   "execution_count": null,
   "metadata": {},
   "outputs": [],
   "source": [
    "#9"
   ]
  },
  {
   "cell_type": "code",
   "execution_count": null,
   "metadata": {},
   "outputs": [],
   "source": [
    "#10"
   ]
  }
 ],
 "metadata": {
  "kernelspec": {
   "display_name": "Python 3",
   "language": "python",
   "name": "python3"
  },
  "language_info": {
   "codemirror_mode": {
    "name": "ipython",
    "version": 3
   },
   "file_extension": ".py",
   "mimetype": "text/x-python",
   "name": "python",
   "nbconvert_exporter": "python",
   "pygments_lexer": "ipython3",
   "version": "3.8.8"
  }
 },
 "nbformat": 4,
 "nbformat_minor": 4
}
