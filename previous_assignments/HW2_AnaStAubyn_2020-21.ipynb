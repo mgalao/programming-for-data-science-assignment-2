{
 "cells": [
  {
   "cell_type": "markdown",
   "metadata": {},
   "source": [
    "# Programming for Data Science\n",
    "## NOVA IMS\n",
    "\n",
    "#### Student Name:\n",
    "Ana Clara do Carmo St.Aubyn\n",
    "#### Student Number:\n",
    "R2016713\n",
    "\n",
    "### How to save your jupyter notebook\n",
    "Save wih the following name HW2_\\< id >.ipynb where \\< id > is your student number. Upload your solution on moodle\n",
    "\n",
    "### Homework 2\n",
    "\n",
    "This week homework will test your ability to apply functions and classes.\n",
    "\n"
   ]
  },
  {
   "cell_type": "markdown",
   "metadata": {},
   "source": [
    "### Notes and Additional Material\n",
    "\n",
    "In the _Theoretical Slides L3_ **Challenges for Practice** _page 52_  supplied by **Professor Flávio Pinheiro** you will find the following exercise:\n",
    "\n",
    "\n",
    "**Question:** Write a program that computes the net amount of a bank account based a transaction log from console input. the transaction log format is shown as following:\n",
    "\n",
    "D 100\n",
    "\n",
    "W 200\n",
    "\n",
    "D means deposit while W means withdrawal.\n",
    "Suppose the folowing input is supplied to the program:\n",
    "\n",
    "D 300\n",
    "\n",
    "D 300\n",
    "\n",
    "W 200\n",
    "\n",
    "D 100\n",
    "\n",
    "Then, the output should be: 500\n",
    "\n",
    "## Let's move on to what matters!!"
   ]
  },
  {
   "cell_type": "markdown",
   "metadata": {},
   "source": [
    "\n",
    "\n",
    "\n",
    "# Assignment\n"
   ]
  },
  {
   "cell_type": "markdown",
   "metadata": {},
   "source": [
    "## Part I"
   ]
  },
  {
   "cell_type": "markdown",
   "metadata": {},
   "source": [
    "\n",
    "1. Declare a function named *delete_duplicates* that takes as argument a list, **L**, of values;\n",
    "\n",
    "\n",
    "* The function *delete_duplicates* returns a new list with unique elements of the passed list, **L**;\n",
    "* For instance if we pass a list with the values [1,2,3,3,3,3,4,5], it must return [1, 2, 3, 4, 5];\n",
    "* Complement the function with a proper documentation that can be accessible through the attribute .\\__doc__;\n",
    "* The function should work for lists with heterogeneous types of objects (strings, int, float, etc .."
   ]
  },
  {
   "cell_type": "code",
   "execution_count": 3,
   "metadata": {},
   "outputs": [
    {
     "name": "stdout",
     "output_type": "stream",
     "text": [
      "[1, 2, 3, 4, 5]\n"
     ]
    },
    {
     "data": {
      "text/plain": [
       "'This function receives a list and returns a new list without duplicated elements'"
      ]
     },
     "execution_count": 3,
     "metadata": {},
     "output_type": "execute_result"
    }
   ],
   "source": [
    "List=[1,2,3,3,3,3,4,5] \n",
    "def delete_duplicates(L):\n",
    "    \"\"\"This function receives a list and returns a new list without duplicated elements\"\"\"\n",
    "    #a dictionary can't have repeated keys so we can create a dictionary and then convert it into a list again\n",
    "    return list(dict.fromkeys(L))\n",
    "print(delete_duplicates(List))\n",
    "delete_duplicates.__doc__"
   ]
  },
  {
   "cell_type": "markdown",
   "metadata": {},
   "source": [
    "\n",
    "2. Declare a list, **l**, made up of 10000 random integers between 0 and 100, 100 included;\n",
    "\n",
    "\n",
    "* Use the function *delete_duplicates* to return the unique elements in **l**;"
   ]
  },
  {
   "cell_type": "code",
   "execution_count": 4,
   "metadata": {},
   "outputs": [
    {
     "name": "stdout",
     "output_type": "stream",
     "text": [
      "[92, 88, 17, 9, 58, 57, 62, 49, 23, 35, 41, 47, 95, 40, 71, 52, 82, 96, 22, 94, 18, 68, 26, 66, 21, 25, 54, 30, 20, 83, 33, 78, 89, 44, 43, 81, 14, 79, 2, 67, 86, 38, 75, 12, 1, 85, 16, 51, 56, 31, 55, 6, 99, 93, 48, 59, 72, 76, 73, 98, 7, 39, 84, 61, 24, 60, 36, 50, 74, 10, 77, 0, 32, 37, 91, 13, 65, 46, 70, 100, 29, 90, 11, 87, 80, 34, 27, 42, 64, 28, 4, 19, 5, 53, 63, 69, 45, 8, 15, 97, 3]\n"
     ]
    }
   ],
   "source": [
    "import random\n",
    "I=[]\n",
    "for x in range(10000):\n",
    "    I.append(random.randint(0,100))\n",
    "I=delete_duplicates(I)\n",
    "print(I)"
   ]
  },
  {
   "cell_type": "markdown",
   "metadata": {},
   "source": [
    "## Part II"
   ]
  },
  {
   "cell_type": "markdown",
   "metadata": {},
   "source": [
    "1. Declare a class that holds a client bank account;\n",
    "\n",
    "\n",
    "* The input arguments must be name and first deposit amount\n",
    "* The client will have an unique id\n",
    "* A comission will deducted to the original amount of 50\n",
    "\n",
    "\n",
    "2. Interest rate\n",
    "\n",
    "\n",
    "* Define a method where an interest rate is aplied to the net amount\n",
    "\n",
    "\n",
    "3. Age\n",
    "\n",
    "\n",
    "* Create functions to supply the birthdate (format YYYYMMDD) and get the Age\n",
    "\n",
    "\n",
    "\n",
    "##### Note: Use the basis provided to solve this homework item. Take the necessary actions to make it run successfully"
   ]
  },
  {
   "cell_type": "code",
   "execution_count": 13,
   "metadata": {},
   "outputs": [
    {
     "name": "stdout",
     "output_type": "stream",
     "text": [
      "Insert your name: ana\n",
      "Insert the value for your first deposit. A comission of 50€ will be deducted.500\n",
      "Name:  ana\n",
      "ID:  06adfa99-b673-40df-bae5-4d5103015742\n",
      "First Deposit:  500\n",
      "Current Amount:  450.0\n",
      "The amount updated according to the interest rate is  472.5\n",
      "When is your birthday (dd mm yy):21 12 98\n",
      "Age:  20\n"
     ]
    }
   ],
   "source": [
    "from datetime import date, datetime\n",
    "import random\n",
    "import uuid\n",
    "\n",
    "class bank_account():\n",
    "    \n",
    "    def __init__(self, Name, FirstDeposit, ID):\n",
    "        self.Name=Name\n",
    "        self.FirstDeposit=FirstDeposit\n",
    "        self.ID=ID\n",
    "        self.Amount=float(FirstDeposit)-50\n",
    "        \n",
    "    def account(self):\n",
    "        print ('Name: ', str(self.Name))\n",
    "        print ('ID: ', str(self.ID))\n",
    "        print ('First Deposit: ', str(self.FirstDeposit))\n",
    "        print('Current Amount: ', str(self.Amount))\n",
    "    \n",
    "    def apply_IR(self, irate):\n",
    "        self.Amount = float(self.Amount+(self.Amount * irate))\n",
    "        print(\"The amount updated according to the interest rate is \",self.Amount)\n",
    "     \n",
    "    def getAge(self, birthday):\n",
    "        today = date.today() \n",
    "        age = today.year - birthday.year - ((today.month, today.day) < (birthday.month, birthday.day))\n",
    "        return age    \n",
    "        \n",
    "    def setBirthday(self):\n",
    "        self.birthday=input(\"When is your birthday (dd mm yy):\")\n",
    "        self.birthday=datetime.strptime(self.birthday, \"%d %m %y\")\n",
    "        print ('Age: ', self.getAge(self.birthday))\n",
    "        \n",
    "    def applyDeposit(self, deposit):\n",
    "        self.Amount=self.Amount+deposit\n",
    "        print(\"Your current balance is \",self.Amount)\n",
    "    \n",
    "    def applyWithdrawal(self,withdrawal):\n",
    "        self.Amount=self.Amount-withdrawal\n",
    "        print(\"Your current balance is \",self.Amount)\n",
    "    \n",
    "name=input(\"Insert your name: \")\n",
    "firstAmount=input(\"Insert the value for your first deposit. A comission of 50€ will be deducted.\")\n",
    "\n",
    "BankAccount=bank_account(name, firstAmount, uuid.uuid4())\n",
    "bank_account.account(BankAccount)\n",
    "bank_account.apply_IR(BankAccount,0.05)\n",
    "bank_account.setBirthday(BankAccount)\n",
    "\n",
    "\n",
    "\n",
    "\n",
    "\n"
   ]
  },
  {
   "cell_type": "markdown",
   "metadata": {},
   "source": [
    "\n",
    "4. Transactions\n",
    "\n",
    "\n",
    "* Apply the following bank transactions:\n",
    "\n",
    "* Open Account with 7500\n",
    "* D 500\n",
    "* D 500\n",
    "* W 1000\n",
    "* W 1500\n",
    "* D 500\n",
    "* Apply a class interest rate of 5%"
   ]
  },
  {
   "cell_type": "code",
   "execution_count": 15,
   "metadata": {},
   "outputs": [
    {
     "name": "stdout",
     "output_type": "stream",
     "text": [
      "Name:  Ana\n",
      "ID:  2525fe56-eb0b-44f1-9a5c-612e51e97f8e\n",
      "First Deposit:  7500\n",
      "Current Amount:  7450.0\n",
      "Your current balance is  7950.0\n",
      "Your current balance is  8450.0\n",
      "Your current balance is  7450.0\n",
      "Your current balance is  5950.0\n",
      "Your current balance is  6450.0\n",
      "The amount updated according to the interest rate is  6772.5\n"
     ]
    }
   ],
   "source": [
    "BankAccount2=bank_account('Ana', 7500, uuid.uuid4())\n",
    "bank_account.account(BankAccount2)\n",
    "bank_account.applyDeposit(BankAccount2, 500)\n",
    "bank_account.applyDeposit(BankAccount2, 500)\n",
    "bank_account.applyWithdrawal(BankAccount2, 1000)\n",
    "bank_account.applyWithdrawal(BankAccount2, 1500)\n",
    "bank_account.applyDeposit(BankAccount2, 500)\n",
    "bank_account.apply_IR(BankAccount2, 0.05)"
   ]
  },
  {
   "cell_type": "markdown",
   "metadata": {},
   "source": [
    "\n",
    "5 . Interest Rate\n",
    "\n",
    "* Apply a personalized interest rate of 15% (over the previous result)"
   ]
  },
  {
   "cell_type": "code",
   "execution_count": 16,
   "metadata": {},
   "outputs": [
    {
     "name": "stdout",
     "output_type": "stream",
     "text": [
      "The amount updated according to the interest rate is  7788.375\n"
     ]
    }
   ],
   "source": [
    "bank_account.apply_IR(BankAccount2, 0.15)"
   ]
  },
  {
   "cell_type": "markdown",
   "metadata": {},
   "source": [
    "6 . Create another dummy bank Account\n",
    "\n",
    "* Print the Account ID"
   ]
  },
  {
   "cell_type": "code",
   "execution_count": 17,
   "metadata": {},
   "outputs": [
    {
     "name": "stdout",
     "output_type": "stream",
     "text": [
      "8ecbe510-0b91-4810-9b37-fe0f549258c0\n"
     ]
    }
   ],
   "source": [
    "BankAccount3=bank_account('Olá', 8000, uuid.uuid4())\n",
    "print(BankAccount3.ID)"
   ]
  },
  {
   "cell_type": "code",
   "execution_count": null,
   "metadata": {},
   "outputs": [],
   "source": []
  }
 ],
 "metadata": {
  "kernelspec": {
   "display_name": "Python 3",
   "language": "python",
   "name": "python3"
  },
  "language_info": {
   "codemirror_mode": {
    "name": "ipython",
    "version": 3
   },
   "file_extension": ".py",
   "mimetype": "text/x-python",
   "name": "python",
   "nbconvert_exporter": "python",
   "pygments_lexer": "ipython3",
   "version": "3.7.3"
  }
 },
 "nbformat": 4,
 "nbformat_minor": 2
}
